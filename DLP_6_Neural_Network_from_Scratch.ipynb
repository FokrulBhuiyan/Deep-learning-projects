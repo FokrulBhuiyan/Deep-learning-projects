{
  "nbformat": 4,
  "nbformat_minor": 0,
  "metadata": {
    "colab": {
      "provenance": [],
      "gpuType": "T4",
      "authorship_tag": "ABX9TyM9jqkqXgMv+jIgLwhXTcik",
      "include_colab_link": true
    },
    "kernelspec": {
      "name": "python3",
      "display_name": "Python 3"
    },
    "language_info": {
      "name": "python"
    }
  },
  "cells": [
    {
      "cell_type": "markdown",
      "metadata": {
        "id": "view-in-github",
        "colab_type": "text"
      },
      "source": [
        "<a href=\"https://colab.research.google.com/github/FokrulBhuiyan/Deep-learning-projects/blob/main/DLP_6_Neural_Network_from_Scratch.ipynb\" target=\"_parent\"><img src=\"https://colab.research.google.com/assets/colab-badge.svg\" alt=\"Open In Colab\"/></a>"
      ]
    },
    {
      "cell_type": "code",
      "execution_count": 1,
      "metadata": {
        "colab": {
          "base_uri": "https://localhost:8080/"
        },
        "id": "A-EeYmJktWz6",
        "outputId": "9d46069d-e3bb-4424-e84b-3fb5f913bcad"
      },
      "outputs": [
        {
          "output_type": "stream",
          "name": "stdout",
          "text": [
            "Mounted at /content/drive\n"
          ]
        }
      ],
      "source": [
        "# Mount Google Drive\n",
        "\n",
        "from google.colab import drive\n",
        "drive.mount('/content/drive')"
      ]
    },
    {
      "cell_type": "code",
      "source": [
        "import os\n",
        "print(os.getcwd())\n",
        "os.chdir(path=r\"/content/drive/MyDrive/30 Days DL/DLP-6 Neural Network from Scratch\")\n",
        "print(os.getcwd())"
      ],
      "metadata": {
        "colab": {
          "base_uri": "https://localhost:8080/"
        },
        "id": "vUYJFHn0tjMf",
        "outputId": "1a9a97e5-b0c1-4d6d-813c-6cef751ca84c"
      },
      "execution_count": 2,
      "outputs": [
        {
          "output_type": "stream",
          "name": "stdout",
          "text": [
            "/content\n",
            "/content/drive/MyDrive/30 Days DL/DLP-6 Neural Network from Scratch\n"
          ]
        }
      ]
    },
    {
      "cell_type": "markdown",
      "source": [
        "###  Brief about the project\n",
        "In this notebook, we will explore and compare the performance of a custom-built neural network (NN) against a model implemented in PyTorch. Specifically, we will focus on the accuracy achieved by both models over time, with a detailed comparison of training and testing accuracies.\n",
        "\n",
        "**Overview of the Models:**\n",
        "*  Custom Neural Network: A simple custom-built neural network trained on a dataset.The model’s performance is tracked over several iterations, with accuracy reported at intervals.\n",
        "\n",
        "*   PyTorch Model: A similar model implemented using the PyTorch framework, which is trained for a specified number of epochs. Both training and testing accuracies are recorded at the end of each epoch.\n",
        "\n",
        "\n",
        "\n",
        "\n"
      ],
      "metadata": {
        "id": "cJfO-7hU2Knl"
      }
    },
    {
      "cell_type": "markdown",
      "source": [
        "### Packages"
      ],
      "metadata": {
        "id": "RgM2S9f3ts2b"
      }
    },
    {
      "cell_type": "code",
      "source": [
        "import numpy as np\n",
        "import pandas as pd\n",
        "from matplotlib import pyplot as plt"
      ],
      "metadata": {
        "id": "819bdkYptjJh"
      },
      "execution_count": 3,
      "outputs": []
    },
    {
      "cell_type": "code",
      "source": [
        "# get the dataset for google drive directly\n",
        "# !wget --no-check-certificate 'https://drive.google.com/uc?id=1kobc4-1jZlOBOZBf52NND"
      ],
      "metadata": {
        "id": "xUDvBPrhtjGe"
      },
      "execution_count": 4,
      "outputs": []
    },
    {
      "cell_type": "code",
      "source": [
        "data = pd.read_csv('./dataset/train.csv')"
      ],
      "metadata": {
        "id": "C2g_EmkLtjDb"
      },
      "execution_count": 5,
      "outputs": []
    },
    {
      "cell_type": "code",
      "source": [
        "data.head()"
      ],
      "metadata": {
        "colab": {
          "base_uri": "https://localhost:8080/",
          "height": 235
        },
        "id": "Ch8FPHg3tjAM",
        "outputId": "b0c5fc6d-b162-4df6-ed02-c7ef9b1ad485"
      },
      "execution_count": 6,
      "outputs": [
        {
          "output_type": "execute_result",
          "data": {
            "text/plain": [
              "   label  pixel0  pixel1  pixel2  pixel3  pixel4  pixel5  pixel6  pixel7  \\\n",
              "0      1       0       0       0       0       0       0       0       0   \n",
              "1      0       0       0       0       0       0       0       0       0   \n",
              "2      1       0       0       0       0       0       0       0       0   \n",
              "3      4       0       0       0       0       0       0       0       0   \n",
              "4      0       0       0       0       0       0       0       0       0   \n",
              "\n",
              "   pixel8  ...  pixel774  pixel775  pixel776  pixel777  pixel778  pixel779  \\\n",
              "0       0  ...         0         0         0         0         0         0   \n",
              "1       0  ...         0         0         0         0         0         0   \n",
              "2       0  ...         0         0         0         0         0         0   \n",
              "3       0  ...         0         0         0         0         0         0   \n",
              "4       0  ...         0         0         0         0         0         0   \n",
              "\n",
              "   pixel780  pixel781  pixel782  pixel783  \n",
              "0         0         0         0         0  \n",
              "1         0         0         0         0  \n",
              "2         0         0         0         0  \n",
              "3         0         0         0         0  \n",
              "4         0         0         0         0  \n",
              "\n",
              "[5 rows x 785 columns]"
            ],
            "text/html": [
              "\n",
              "  <div id=\"df-5e879d86-d6e3-45c6-9744-09e3213da32a\" class=\"colab-df-container\">\n",
              "    <div>\n",
              "<style scoped>\n",
              "    .dataframe tbody tr th:only-of-type {\n",
              "        vertical-align: middle;\n",
              "    }\n",
              "\n",
              "    .dataframe tbody tr th {\n",
              "        vertical-align: top;\n",
              "    }\n",
              "\n",
              "    .dataframe thead th {\n",
              "        text-align: right;\n",
              "    }\n",
              "</style>\n",
              "<table border=\"1\" class=\"dataframe\">\n",
              "  <thead>\n",
              "    <tr style=\"text-align: right;\">\n",
              "      <th></th>\n",
              "      <th>label</th>\n",
              "      <th>pixel0</th>\n",
              "      <th>pixel1</th>\n",
              "      <th>pixel2</th>\n",
              "      <th>pixel3</th>\n",
              "      <th>pixel4</th>\n",
              "      <th>pixel5</th>\n",
              "      <th>pixel6</th>\n",
              "      <th>pixel7</th>\n",
              "      <th>pixel8</th>\n",
              "      <th>...</th>\n",
              "      <th>pixel774</th>\n",
              "      <th>pixel775</th>\n",
              "      <th>pixel776</th>\n",
              "      <th>pixel777</th>\n",
              "      <th>pixel778</th>\n",
              "      <th>pixel779</th>\n",
              "      <th>pixel780</th>\n",
              "      <th>pixel781</th>\n",
              "      <th>pixel782</th>\n",
              "      <th>pixel783</th>\n",
              "    </tr>\n",
              "  </thead>\n",
              "  <tbody>\n",
              "    <tr>\n",
              "      <th>0</th>\n",
              "      <td>1</td>\n",
              "      <td>0</td>\n",
              "      <td>0</td>\n",
              "      <td>0</td>\n",
              "      <td>0</td>\n",
              "      <td>0</td>\n",
              "      <td>0</td>\n",
              "      <td>0</td>\n",
              "      <td>0</td>\n",
              "      <td>0</td>\n",
              "      <td>...</td>\n",
              "      <td>0</td>\n",
              "      <td>0</td>\n",
              "      <td>0</td>\n",
              "      <td>0</td>\n",
              "      <td>0</td>\n",
              "      <td>0</td>\n",
              "      <td>0</td>\n",
              "      <td>0</td>\n",
              "      <td>0</td>\n",
              "      <td>0</td>\n",
              "    </tr>\n",
              "    <tr>\n",
              "      <th>1</th>\n",
              "      <td>0</td>\n",
              "      <td>0</td>\n",
              "      <td>0</td>\n",
              "      <td>0</td>\n",
              "      <td>0</td>\n",
              "      <td>0</td>\n",
              "      <td>0</td>\n",
              "      <td>0</td>\n",
              "      <td>0</td>\n",
              "      <td>0</td>\n",
              "      <td>...</td>\n",
              "      <td>0</td>\n",
              "      <td>0</td>\n",
              "      <td>0</td>\n",
              "      <td>0</td>\n",
              "      <td>0</td>\n",
              "      <td>0</td>\n",
              "      <td>0</td>\n",
              "      <td>0</td>\n",
              "      <td>0</td>\n",
              "      <td>0</td>\n",
              "    </tr>\n",
              "    <tr>\n",
              "      <th>2</th>\n",
              "      <td>1</td>\n",
              "      <td>0</td>\n",
              "      <td>0</td>\n",
              "      <td>0</td>\n",
              "      <td>0</td>\n",
              "      <td>0</td>\n",
              "      <td>0</td>\n",
              "      <td>0</td>\n",
              "      <td>0</td>\n",
              "      <td>0</td>\n",
              "      <td>...</td>\n",
              "      <td>0</td>\n",
              "      <td>0</td>\n",
              "      <td>0</td>\n",
              "      <td>0</td>\n",
              "      <td>0</td>\n",
              "      <td>0</td>\n",
              "      <td>0</td>\n",
              "      <td>0</td>\n",
              "      <td>0</td>\n",
              "      <td>0</td>\n",
              "    </tr>\n",
              "    <tr>\n",
              "      <th>3</th>\n",
              "      <td>4</td>\n",
              "      <td>0</td>\n",
              "      <td>0</td>\n",
              "      <td>0</td>\n",
              "      <td>0</td>\n",
              "      <td>0</td>\n",
              "      <td>0</td>\n",
              "      <td>0</td>\n",
              "      <td>0</td>\n",
              "      <td>0</td>\n",
              "      <td>...</td>\n",
              "      <td>0</td>\n",
              "      <td>0</td>\n",
              "      <td>0</td>\n",
              "      <td>0</td>\n",
              "      <td>0</td>\n",
              "      <td>0</td>\n",
              "      <td>0</td>\n",
              "      <td>0</td>\n",
              "      <td>0</td>\n",
              "      <td>0</td>\n",
              "    </tr>\n",
              "    <tr>\n",
              "      <th>4</th>\n",
              "      <td>0</td>\n",
              "      <td>0</td>\n",
              "      <td>0</td>\n",
              "      <td>0</td>\n",
              "      <td>0</td>\n",
              "      <td>0</td>\n",
              "      <td>0</td>\n",
              "      <td>0</td>\n",
              "      <td>0</td>\n",
              "      <td>0</td>\n",
              "      <td>...</td>\n",
              "      <td>0</td>\n",
              "      <td>0</td>\n",
              "      <td>0</td>\n",
              "      <td>0</td>\n",
              "      <td>0</td>\n",
              "      <td>0</td>\n",
              "      <td>0</td>\n",
              "      <td>0</td>\n",
              "      <td>0</td>\n",
              "      <td>0</td>\n",
              "    </tr>\n",
              "  </tbody>\n",
              "</table>\n",
              "<p>5 rows × 785 columns</p>\n",
              "</div>\n",
              "    <div class=\"colab-df-buttons\">\n",
              "\n",
              "  <div class=\"colab-df-container\">\n",
              "    <button class=\"colab-df-convert\" onclick=\"convertToInteractive('df-5e879d86-d6e3-45c6-9744-09e3213da32a')\"\n",
              "            title=\"Convert this dataframe to an interactive table.\"\n",
              "            style=\"display:none;\">\n",
              "\n",
              "  <svg xmlns=\"http://www.w3.org/2000/svg\" height=\"24px\" viewBox=\"0 -960 960 960\">\n",
              "    <path d=\"M120-120v-720h720v720H120Zm60-500h600v-160H180v160Zm220 220h160v-160H400v160Zm0 220h160v-160H400v160ZM180-400h160v-160H180v160Zm440 0h160v-160H620v160ZM180-180h160v-160H180v160Zm440 0h160v-160H620v160Z\"/>\n",
              "  </svg>\n",
              "    </button>\n",
              "\n",
              "  <style>\n",
              "    .colab-df-container {\n",
              "      display:flex;\n",
              "      gap: 12px;\n",
              "    }\n",
              "\n",
              "    .colab-df-convert {\n",
              "      background-color: #E8F0FE;\n",
              "      border: none;\n",
              "      border-radius: 50%;\n",
              "      cursor: pointer;\n",
              "      display: none;\n",
              "      fill: #1967D2;\n",
              "      height: 32px;\n",
              "      padding: 0 0 0 0;\n",
              "      width: 32px;\n",
              "    }\n",
              "\n",
              "    .colab-df-convert:hover {\n",
              "      background-color: #E2EBFA;\n",
              "      box-shadow: 0px 1px 2px rgba(60, 64, 67, 0.3), 0px 1px 3px 1px rgba(60, 64, 67, 0.15);\n",
              "      fill: #174EA6;\n",
              "    }\n",
              "\n",
              "    .colab-df-buttons div {\n",
              "      margin-bottom: 4px;\n",
              "    }\n",
              "\n",
              "    [theme=dark] .colab-df-convert {\n",
              "      background-color: #3B4455;\n",
              "      fill: #D2E3FC;\n",
              "    }\n",
              "\n",
              "    [theme=dark] .colab-df-convert:hover {\n",
              "      background-color: #434B5C;\n",
              "      box-shadow: 0px 1px 3px 1px rgba(0, 0, 0, 0.15);\n",
              "      filter: drop-shadow(0px 1px 2px rgba(0, 0, 0, 0.3));\n",
              "      fill: #FFFFFF;\n",
              "    }\n",
              "  </style>\n",
              "\n",
              "    <script>\n",
              "      const buttonEl =\n",
              "        document.querySelector('#df-5e879d86-d6e3-45c6-9744-09e3213da32a button.colab-df-convert');\n",
              "      buttonEl.style.display =\n",
              "        google.colab.kernel.accessAllowed ? 'block' : 'none';\n",
              "\n",
              "      async function convertToInteractive(key) {\n",
              "        const element = document.querySelector('#df-5e879d86-d6e3-45c6-9744-09e3213da32a');\n",
              "        const dataTable =\n",
              "          await google.colab.kernel.invokeFunction('convertToInteractive',\n",
              "                                                    [key], {});\n",
              "        if (!dataTable) return;\n",
              "\n",
              "        const docLinkHtml = 'Like what you see? Visit the ' +\n",
              "          '<a target=\"_blank\" href=https://colab.research.google.com/notebooks/data_table.ipynb>data table notebook</a>'\n",
              "          + ' to learn more about interactive tables.';\n",
              "        element.innerHTML = '';\n",
              "        dataTable['output_type'] = 'display_data';\n",
              "        await google.colab.output.renderOutput(dataTable, element);\n",
              "        const docLink = document.createElement('div');\n",
              "        docLink.innerHTML = docLinkHtml;\n",
              "        element.appendChild(docLink);\n",
              "      }\n",
              "    </script>\n",
              "  </div>\n",
              "\n",
              "\n",
              "<div id=\"df-fece7088-4ed3-4fbf-b8e8-fcf1031f116f\">\n",
              "  <button class=\"colab-df-quickchart\" onclick=\"quickchart('df-fece7088-4ed3-4fbf-b8e8-fcf1031f116f')\"\n",
              "            title=\"Suggest charts\"\n",
              "            style=\"display:none;\">\n",
              "\n",
              "<svg xmlns=\"http://www.w3.org/2000/svg\" height=\"24px\"viewBox=\"0 0 24 24\"\n",
              "     width=\"24px\">\n",
              "    <g>\n",
              "        <path d=\"M19 3H5c-1.1 0-2 .9-2 2v14c0 1.1.9 2 2 2h14c1.1 0 2-.9 2-2V5c0-1.1-.9-2-2-2zM9 17H7v-7h2v7zm4 0h-2V7h2v10zm4 0h-2v-4h2v4z\"/>\n",
              "    </g>\n",
              "</svg>\n",
              "  </button>\n",
              "\n",
              "<style>\n",
              "  .colab-df-quickchart {\n",
              "      --bg-color: #E8F0FE;\n",
              "      --fill-color: #1967D2;\n",
              "      --hover-bg-color: #E2EBFA;\n",
              "      --hover-fill-color: #174EA6;\n",
              "      --disabled-fill-color: #AAA;\n",
              "      --disabled-bg-color: #DDD;\n",
              "  }\n",
              "\n",
              "  [theme=dark] .colab-df-quickchart {\n",
              "      --bg-color: #3B4455;\n",
              "      --fill-color: #D2E3FC;\n",
              "      --hover-bg-color: #434B5C;\n",
              "      --hover-fill-color: #FFFFFF;\n",
              "      --disabled-bg-color: #3B4455;\n",
              "      --disabled-fill-color: #666;\n",
              "  }\n",
              "\n",
              "  .colab-df-quickchart {\n",
              "    background-color: var(--bg-color);\n",
              "    border: none;\n",
              "    border-radius: 50%;\n",
              "    cursor: pointer;\n",
              "    display: none;\n",
              "    fill: var(--fill-color);\n",
              "    height: 32px;\n",
              "    padding: 0;\n",
              "    width: 32px;\n",
              "  }\n",
              "\n",
              "  .colab-df-quickchart:hover {\n",
              "    background-color: var(--hover-bg-color);\n",
              "    box-shadow: 0 1px 2px rgba(60, 64, 67, 0.3), 0 1px 3px 1px rgba(60, 64, 67, 0.15);\n",
              "    fill: var(--button-hover-fill-color);\n",
              "  }\n",
              "\n",
              "  .colab-df-quickchart-complete:disabled,\n",
              "  .colab-df-quickchart-complete:disabled:hover {\n",
              "    background-color: var(--disabled-bg-color);\n",
              "    fill: var(--disabled-fill-color);\n",
              "    box-shadow: none;\n",
              "  }\n",
              "\n",
              "  .colab-df-spinner {\n",
              "    border: 2px solid var(--fill-color);\n",
              "    border-color: transparent;\n",
              "    border-bottom-color: var(--fill-color);\n",
              "    animation:\n",
              "      spin 1s steps(1) infinite;\n",
              "  }\n",
              "\n",
              "  @keyframes spin {\n",
              "    0% {\n",
              "      border-color: transparent;\n",
              "      border-bottom-color: var(--fill-color);\n",
              "      border-left-color: var(--fill-color);\n",
              "    }\n",
              "    20% {\n",
              "      border-color: transparent;\n",
              "      border-left-color: var(--fill-color);\n",
              "      border-top-color: var(--fill-color);\n",
              "    }\n",
              "    30% {\n",
              "      border-color: transparent;\n",
              "      border-left-color: var(--fill-color);\n",
              "      border-top-color: var(--fill-color);\n",
              "      border-right-color: var(--fill-color);\n",
              "    }\n",
              "    40% {\n",
              "      border-color: transparent;\n",
              "      border-right-color: var(--fill-color);\n",
              "      border-top-color: var(--fill-color);\n",
              "    }\n",
              "    60% {\n",
              "      border-color: transparent;\n",
              "      border-right-color: var(--fill-color);\n",
              "    }\n",
              "    80% {\n",
              "      border-color: transparent;\n",
              "      border-right-color: var(--fill-color);\n",
              "      border-bottom-color: var(--fill-color);\n",
              "    }\n",
              "    90% {\n",
              "      border-color: transparent;\n",
              "      border-bottom-color: var(--fill-color);\n",
              "    }\n",
              "  }\n",
              "</style>\n",
              "\n",
              "  <script>\n",
              "    async function quickchart(key) {\n",
              "      const quickchartButtonEl =\n",
              "        document.querySelector('#' + key + ' button');\n",
              "      quickchartButtonEl.disabled = true;  // To prevent multiple clicks.\n",
              "      quickchartButtonEl.classList.add('colab-df-spinner');\n",
              "      try {\n",
              "        const charts = await google.colab.kernel.invokeFunction(\n",
              "            'suggestCharts', [key], {});\n",
              "      } catch (error) {\n",
              "        console.error('Error during call to suggestCharts:', error);\n",
              "      }\n",
              "      quickchartButtonEl.classList.remove('colab-df-spinner');\n",
              "      quickchartButtonEl.classList.add('colab-df-quickchart-complete');\n",
              "    }\n",
              "    (() => {\n",
              "      let quickchartButtonEl =\n",
              "        document.querySelector('#df-fece7088-4ed3-4fbf-b8e8-fcf1031f116f button');\n",
              "      quickchartButtonEl.style.display =\n",
              "        google.colab.kernel.accessAllowed ? 'block' : 'none';\n",
              "    })();\n",
              "  </script>\n",
              "</div>\n",
              "\n",
              "    </div>\n",
              "  </div>\n"
            ],
            "application/vnd.google.colaboratory.intrinsic+json": {
              "type": "dataframe",
              "variable_name": "data"
            }
          },
          "metadata": {},
          "execution_count": 6
        }
      ]
    },
    {
      "cell_type": "code",
      "source": [
        "data = np.array(data)\n",
        "m, n = data.shape\n",
        "np.random.shuffle(data)"
      ],
      "metadata": {
        "id": "vNI53JdEti9D"
      },
      "execution_count": 7,
      "outputs": []
    },
    {
      "cell_type": "code",
      "source": [
        "print(m,n)\n"
      ],
      "metadata": {
        "colab": {
          "base_uri": "https://localhost:8080/"
        },
        "id": "68hkoWB9ti58",
        "outputId": "21bbbca1-d1cd-4583-b0b7-eb73f0f3d5b4"
      },
      "execution_count": 8,
      "outputs": [
        {
          "output_type": "stream",
          "name": "stdout",
          "text": [
            "42000 785\n"
          ]
        }
      ]
    },
    {
      "cell_type": "markdown",
      "source": [
        "To describe the above code mathematically, here's the breakdown:\n",
        "\n",
        "Given a dataset data of size m x n (where m is the number of samples and n is the number of features per sample), the code performs the following operations:\n",
        "1. Splitting the dataset into training and validation sets:\n",
        "The dataset is split into a training set ( train_data ) containing the first 80% of the data and a validation set ( val_data ) containing the remaining 20%.\n",
        "$$ train\\_data = data[0:⌊0.8 × m⌋, : ]$$\n",
        "$$ val\\_data = data[⌊0.8 × m⌋: m, : ]$$\n",
        "2. Preprocessing the training data:\n",
        "- The features (i.e., columns starting from the second column) are extracted and transposed to create the input matrix (X_{\\text{train}}).\n",
        "- Each feature is normalized by dividing it by 255.0 (assuming pixel values in an image dataset).\n",
        "\n",
        "$$ X_{train} = (train\\_data[: , 1: ])^{T} (transpose the features)$$\n",
        "$$ X_{train} = \\frac{X_{train}}{255.0} (normalize pixel values) $$\n",
        "- The target labels for the training set (i.e., the first column) are stored in\n",
        "(Y_{\\text{train}}).\n",
        "$$Y_{train} = train\\_data[: , 0]$$\n",
        "\n",
        "3. Preprocessing the validation data:\n",
        "- Similarly, for the validation data, the features are extracted, transposed, and normalized.\n",
        "$$ X_{val} = (val\\_data[: , 1: ])^{T} $$\n",
        "$$ X_{val} = \\frac{X_{val}}{255.0} $$\n",
        "- The target labels for the validation set are stored in (Y_{\\text{val}}).\n",
        "$$ Y_{val} = val\\_data[: , 0] $$\n",
        "\n",
        "**Final Summary:**\n",
        "\n",
        "$$ Training Data: train\\_data = data[0:⌊0.8 × m⌋, : ] $$\n",
        "$$ Validation Data: val\\_data = data[⌊0.8 × m⌋: m, : ] $$\n",
        "$$ Features (Training): Xtrain = (train\\_data[: , 1: ])^{T}, X_{train}= \\frac{X_{train}}{255.0}    $$\n",
        "$$ Labels (Training): Ytrain = train\\_data[: , 0] $$\n",
        "$$ Features (Validation): Xval = (val\\_data[: , 1: ])^{T}, X_{val} = \\frac{X_{val}}{255.0} $$\n",
        "\n",
        "$$ Labels (Validation): Yval = val\\_data[: , 0] $$\n",
        "This captures the process of splitting, transposing, and normalizing the dataset for training and validation in mathematical terms.\n"
      ],
      "metadata": {
        "id": "5diE28MxJE6b"
      }
    },
    {
      "cell_type": "code",
      "source": [
        "train_data = data[0:int(0.8*m), :]\n",
        "val_data = data[int(0.8*m):m, :]\n",
        "X_train = train_data[:, 1:].T\n",
        "X_train = X_train / 255.0\n",
        "Y_train = train_data[:, 0]\n",
        "X_val = val_data[:, 1:].T\n",
        "X_val = X_val / 255.0\n",
        "Y_val = val_data[:, 0]"
      ],
      "metadata": {
        "id": "IMmkrZU4ti27"
      },
      "execution_count": 9,
      "outputs": []
    },
    {
      "cell_type": "code",
      "source": [
        "print(X_val.shape)\n",
        "print(Y_val.shape)\n",
        "print(X_train.shape)\n",
        "print(Y_train.shape)"
      ],
      "metadata": {
        "colab": {
          "base_uri": "https://localhost:8080/"
        },
        "id": "WGbD8-g_tiz5",
        "outputId": "a0df57fc-31c4-4cd2-b0c3-c06025bb46ba"
      },
      "execution_count": 10,
      "outputs": [
        {
          "output_type": "stream",
          "name": "stdout",
          "text": [
            "(784, 8400)\n",
            "(8400,)\n",
            "(784, 33600)\n",
            "(33600,)\n"
          ]
        }
      ]
    },
    {
      "cell_type": "markdown",
      "source": [
        "the Python code will break down into these stages:\n",
        "1. Initialization\n",
        "2. Forward Propagation\n",
        "3. Loss Calculation\n",
        "4. Backward Propagation\n",
        "5. Parameter Updates\n",
        "6. Prediction and Accuracy"
      ],
      "metadata": {
        "id": "ZXm40K_DOuw8"
      }
    },
    {
      "cell_type": "markdown",
      "source": [
        "### 1. Initialization\n",
        "The weights and biases are initialized randomly. The mathematics here is:\n",
        "$$ W_{1} ∈ R^{h × d}, B_{1} ∈ R^{h × 1}, W_{2} ∈ R^{c × h}, B_{2} ∈ R^{c × 1} $$\n",
        "\n",
        "Where:\n",
        "- (d): Number of input features\n",
        "- (h): Number of hidden layer neurons\n",
        "- (c): Number of output classes\n",
        "\n",
        "In code:\n",
        "- self.W1 = np.random.rand(hidden_size, input_size) - 0.5\n",
        "- self.B1 = np.random.rand(hidden_size, 1) - 0.5\n",
        "- self.W2 = np.random.rand(output_size, hidden_size) - 0.5\n",
        "- self.B2 = np.random.rand(output_size, 1) - 0.5\n",
        "\n",
        "---"
      ],
      "metadata": {
        "id": "BThL-cFHOzCU"
      }
    },
    {
      "cell_type": "markdown",
      "source": [
        "### 2. Forward Propagation\n",
        "**Step 1: Hidden Layer Pre-Activation**\n",
        "\n",
        "$$ Z_{1} = W_{1}X + B_{1} $$\n",
        "Where:\n",
        "- (W1) and (B1) are weights and biases for the hidden layer.\n",
        "- (X) is the input (shape: (d × m), where (m) is the number of examples).\n",
        "\n",
        "In code:\n",
        "- self.Z1 = self.W1.dot(X) + self.B1\n",
        "\n",
        "**Step 2: Hidden Layer Activation (ReLU)**\n",
        "\n",
        "$$ A_{1} = ReLU(Z_{1}) = max (0, Z_{1}) $$\n",
        "\n",
        "In code:\n",
        "- self.A1 = np.maximum(self.Z1, 0)\n",
        "\n",
        "**Step 3: Output Layer Pre-Activation**\n",
        "\n",
        "$$ Z_{2} = W_{2}A_{1} + B_{2} $$\n",
        "Where (W2) and (B2) are the weights and biases for the output layer.\n",
        "\n",
        "In code:\n",
        "- self.Z2 = self.W2.dot(self.A1) + self.B2\n",
        "\n",
        "**Step 4: Output Layer Activation (Softmax)**\n",
        "\n",
        "$$ A_{2} = Softmax(Z_{2}) = \\frac {exp(Z_{2})}{∑exp(Z_{2})} $$\n",
        "\n",
        "Softmax converts the raw scores (Z2) into probabilities. To prevent overflow, we subtract the maximum of (Z2) from (Z2) before applying (exp).\n",
        "\n",
        "In code:\n",
        "- exp_Z = np.exp(Z - np.max(Z, axis=0, keepdims=True))\n",
        "- self.A2 = exp_Z / np.sum(exp_Z, axis=0, keepdims=True)\n",
        "\n",
        "---\n"
      ],
      "metadata": {
        "id": "KqYniax1O5ox"
      }
    },
    {
      "cell_type": "markdown",
      "source": [
        "### 3. Loss Calculation\n",
        "The cross-entropy loss for a single example is:\n",
        "$$ L = − ∑ \\limits _{i = 1} ^{c}Y_{i}log(A_{2i})  $$\n",
        "\n",
        "Where (Yi) is the one-hot encoded label, and (A2i) is the predicted probability for class (i).\n",
        "\n",
        "For (m) examples:\n",
        "$$ L = − \\frac{1}{m} ∑ \\limits _{j = 1} ^{m} ∑ \\limits _{i = 1} ^{c}Y_{ij}log(A_{2ij}) $$\n",
        "\n",
        "\n",
        "\n",
        "In code:\n",
        "- one_hot_Y = self.one_hot_converter(Y, self.W2.shape[0])\n",
        "- loss = -np.mean(np.sum(one_hot_Y * np.log(self.A2), axis=0))\n",
        "\n",
        "---"
      ],
      "metadata": {
        "id": "HQvQuuIWXg8M"
      }
    },
    {
      "cell_type": "markdown",
      "source": [
        "## 4. Backward Propagation\n",
        "**Step 1: Gradient of Output Layer**\n",
        "\n",
        "The gradient of the loss (L) with respect to (Z2) is:\n",
        "$$ dZ_{2} = A_{2} − Y $$\n",
        "\n",
        "In code:\n",
        "- dZ2 = self.A2 - one_hot_Y\n",
        "\n",
        "**Step 2: Gradients of (W2) and (B2)**\n",
        "$$ dW_{2} = \\frac{1}{m}dZ_{2}A^{⊤}_{1} , dB_{2} = \\frac{1}{m} ∑ dZ_{2} $$\n",
        "\n",
        "In code:\n",
        "- dW2 = 1 / m * dZ2.dot(self.A1.T)\n",
        "- dB2 = 1 / m * np.sum(dZ2, axis=1, keepdims=True)\n",
        "\n",
        "**Step 3: Gradient of Hidden Layer (ReLUDerivative)**\n",
        "$$ dZ_{1} = (W^{⊤}_{2}dZ_{2}) ⊙ ReLU′(Z_{1}) $$\n",
        "\n",
        "Where (ReLU′ (Z1) = 1 if Z1 > 0, else 0).\n",
        "\n",
        "(odot) denotes element-wise multiplication.\n",
        "\n",
        "In code:\n",
        "- dZ1 = self.W2.T.dot(dZ2) * (self.Z1 > 0)\n",
        "\n",
        "**Step 4: Gradients of (W_1) and (B_1)**\n",
        "$$ dW_{1} = \\frac{1}{m}dZ_{1}X^{⊤}, dB_{1} = \\frac{1}{m} ∑dZ_{1} $$\n",
        "\n",
        "In code:\n",
        "dW1 = 1 / m * dZ1.dot(X.T)\n",
        "dB1 = 1 / m * np.sum(dZ1, axis=1, keepdims=True)\n",
        "\n",
        "---"
      ],
      "metadata": {
        "id": "Z3shZkYwY8_g"
      }
    },
    {
      "cell_type": "markdown",
      "source": [
        "### 5. Parameter Updates\n",
        "\n",
        "Using gradient descent:\n",
        "$$ W_{1} ← W_{1} − αdW_{1}, B_{1} ← B_{1} − αdB_{1} $$\n",
        "$$ W_{2} ← W_{2} − αdW_{2}, B_{2} ← B_{2} − αdB_{2} $$\n",
        "\n",
        "Where α is the learning rate.\n",
        "\n",
        "In code:\n",
        "- self.W1 -= learning_rate * dW1\n",
        "- self.B1 -= learning_rate * dB1\n",
        "- self.W2 -= learning_rate * dW2\n",
        "- self.B2 -= learning_rate * dB2\n",
        "\n",
        "---\n"
      ],
      "metadata": {
        "id": "7D1o1ugfA95n"
      }
    },
    {
      "cell_type": "markdown",
      "source": [
        "## 6. Prediction and Accuracy\n",
        "**Predictions:**\n",
        "$$ predictions = arg max (A_{2}, axis = 0) $$\n",
        "\n",
        "In code:\n",
        "- predictions = np.argmax(self.A2, axis=0)\n",
        "\n",
        "**Accuracy:**\n",
        "$$ accuracy = \\frac{Number of correct predictions}{Total number of predictions} $$\n",
        "In code:\n",
        "- accuracy = np.mean(predictions == Y)"
      ],
      "metadata": {
        "id": "zUZ-u2XNBipT"
      }
    },
    {
      "cell_type": "code",
      "source": [
        "import numpy as np\n",
        "\n",
        "class NeuralNetwork:\n",
        "  def __init__(self, input_size, hidden_size, output_size):\n",
        "    # Initialize weights and biases\n",
        "    self.W1 = np.random.rand(hidden_size, input_size) - 0.5\n",
        "    self.B1 = np.random.rand(hidden_size, 1) - 0.5\n",
        "    self.W2 = np.random.rand(output_size, hidden_size) - 0.5\n",
        "    self.B2 = np.random.rand(output_size, 1) - 0.5\n",
        "\n",
        "  def ReLU(self, Z):\n",
        "    return np.maximum(Z, 0)\n",
        "\n",
        "  def softmax(self, Z):\n",
        "    exp_Z = np.exp(Z - np.max(Z, axis=0, keepdims=True))\n",
        "    return exp_Z / np.sum(exp_Z, axis=0, keepdims=True)\n",
        "\n",
        "  def forward_propagation(self, X):\n",
        "    self.Z1 = self.W1.dot(X) + self.B1\n",
        "    self.A1 = self.ReLU(self.Z1)\n",
        "    self.Z2 = self.W2.dot(self.A1) + self.B2\n",
        "    self.A2 = self.softmax(self.Z2)\n",
        "    return self.A2\n",
        "\n",
        "  def one_hot_converter(self, Y, num_classes):\n",
        "    one_hot_Y = np.zeros((num_classes, Y.size))\n",
        "    one_hot_Y[Y, np.arange(Y.size)] = 1\n",
        "    return one_hot_Y\n",
        "\n",
        "  def backward_propagation(self, X, Y):\n",
        "    m = X.shape[1]\n",
        "    one_hot_Y = self.one_hot_converter(Y, self.W2.shape[0])\n",
        "    dZ2 = self.A2 - one_hot_Y\n",
        "    dW2 = 1 / m * dZ2.dot(self.A1.T)\n",
        "    dB2 = 1 / m * np.sum(dZ2, axis=1, keepdims=True)\n",
        "    dZ1 = self.W2.T.dot(dZ2) * (self.Z1 > 0)\n",
        "    dW1 = 1 / m * dZ1.dot(X.T)\n",
        "    dB1 = 1 / m * np.sum(dZ1, axis=1, keepdims=True)\n",
        "    return dW1, dB1, dW2, dB2\n",
        "\n",
        "  def update_parameters(self, dW1, dB1, dW2, dB2, learning_rate):\n",
        "    self.W1 -= learning_rate * dW1\n",
        "    self.B1 -= learning_rate * dB1\n",
        "    self.W2 -= learning_rate * dW2\n",
        "    self.B2 -= learning_rate * dB2\n",
        "\n",
        "  def get_predictions(self, A2):\n",
        "    return np.argmax(A2, axis=0)\n",
        "\n",
        "  def get_accuracy(self, predictions, Y):\n",
        "    return np.mean(predictions == Y)\n",
        "\n",
        "  def train(self, X, Y, learning_rate, iterations, batch_size=32):\n",
        "    for iter in range(iterations):\n",
        "      # Shuffle the data\n",
        "      permutation = np.random.permutation(X.shape[1]) # Shuffling columns of\n",
        "      X = X[:, permutation]\n",
        "      Y = Y[permutation]\n",
        "      accuracy_list = []\n",
        "\n",
        "      for i in range(0, X.shape[1], batch_size):\n",
        "        # Create the batch data\n",
        "        batch_X = X[:, i:i+batch_size]\n",
        "        batch_Y = Y[i:i+batch_size]\n",
        "        # Forward propagation\n",
        "        A2 = self.forward_propagation(batch_X)\n",
        "        # Backward propagation\n",
        "        dW1, dB1, dW2, dB2 = self.backward_propagation(batch_X, batch_Y)\n",
        "        # Update parameters\n",
        "        self.update_parameters(dW1, dB1, dW2, dB2, learning_rate)\n",
        "        # Print accuracy every 50 batches\n",
        "        # Print accuracy every 50 batches (batch level)\n",
        "        predictions = self.get_predictions(A2)\n",
        "        accuracy_list = self.get_accuracy(predictions, batch_Y) # Use batc\n",
        "\n",
        "      if iter % 10 == 0:\n",
        "        print(f\"Iteration: {iter}, Accuracy: {accuracy_list*100}\")\n",
        "\n",
        "  def predict_and_evaluate(self, X_test, Y_test):\n",
        "    A2 = self.forward_propagation(X_test)\n",
        "    predictions = self.get_predictions(A2)\n",
        "    accuracy = self.get_accuracy(predictions, Y_test)\n",
        "    print(f\"Test Accuracy: {accuracy:.4f}\")\n",
        "    return predictions, accuracy\n"
      ],
      "metadata": {
        "id": "3C29ClRnXgms"
      },
      "execution_count": 11,
      "outputs": []
    },
    {
      "cell_type": "code",
      "source": [
        "# Hyperparameters\n",
        "input_size = 784\n",
        "hidden_size = 64\n",
        "output_size = 10\n",
        "learning_rate = 0.001\n",
        "iterations = 100\n",
        "\n",
        "# Initialize and train the neural network\n",
        "nn_custom = NeuralNetwork(input_size, hidden_size, output_size)\n",
        "nn_custom.train(X_train, Y_train, learning_rate, iterations)\n"
      ],
      "metadata": {
        "id": "UUqxnt-tXgjL",
        "colab": {
          "base_uri": "https://localhost:8080/"
        },
        "outputId": "c82f8dd9-619c-41a8-9051-0e5af24a5b8b"
      },
      "execution_count": 12,
      "outputs": [
        {
          "output_type": "stream",
          "name": "stdout",
          "text": [
            "Iteration: 0, Accuracy: 53.125\n",
            "Iteration: 10, Accuracy: 75.0\n",
            "Iteration: 20, Accuracy: 87.5\n",
            "Iteration: 30, Accuracy: 90.625\n",
            "Iteration: 40, Accuracy: 96.875\n",
            "Iteration: 50, Accuracy: 96.875\n",
            "Iteration: 60, Accuracy: 90.625\n",
            "Iteration: 70, Accuracy: 87.5\n",
            "Iteration: 80, Accuracy: 90.625\n",
            "Iteration: 90, Accuracy: 87.5\n"
          ]
        }
      ]
    },
    {
      "cell_type": "code",
      "source": [
        "predictions, accuracy = nn_custom.predict_and_evaluate(X_val, Y_val)\n",
        "print(predictions)\n",
        "print(accuracy*100)"
      ],
      "metadata": {
        "id": "S8zFh89rO5W9",
        "colab": {
          "base_uri": "https://localhost:8080/"
        },
        "outputId": "301c068d-5f99-4a16-c6b5-895a63875d7f"
      },
      "execution_count": 13,
      "outputs": [
        {
          "output_type": "stream",
          "name": "stdout",
          "text": [
            "Test Accuracy: 0.9188\n",
            "[7 1 8 ... 3 0 1]\n",
            "91.88095238095238\n"
          ]
        }
      ]
    },
    {
      "cell_type": "code",
      "source": [
        "predictions[893]"
      ],
      "metadata": {
        "id": "7_TBYLrRtixa",
        "colab": {
          "base_uri": "https://localhost:8080/"
        },
        "outputId": "adf4102b-dd91-4e1e-90bb-2b98e8135a93"
      },
      "execution_count": 14,
      "outputs": [
        {
          "output_type": "execute_result",
          "data": {
            "text/plain": [
              "np.int64(3)"
            ]
          },
          "metadata": {},
          "execution_count": 14
        }
      ]
    },
    {
      "cell_type": "code",
      "source": [
        "val_index = 890\n",
        "\n",
        "A2val = nn_custom.forward_propagation(X_val[:, val_index, None])\n",
        "print(\"Predicted label: \", nn_custom.get_predictions(A2val))\n",
        "print(\"Actual label: \", Y_val[val_index])\n",
        "\n",
        "image_array = X_val[:,val_index].reshape(28,28)\n",
        "plt.imshow(image_array, cmap='gray')\n",
        "plt.show()"
      ],
      "metadata": {
        "id": "j7OTboTQtiuQ",
        "colab": {
          "base_uri": "https://localhost:8080/",
          "height": 465
        },
        "outputId": "5fc1c19f-21de-40ac-d27f-61825d8797b3"
      },
      "execution_count": 15,
      "outputs": [
        {
          "output_type": "stream",
          "name": "stdout",
          "text": [
            "Predicted label:  [0]\n",
            "Actual label:  0\n"
          ]
        },
        {
          "output_type": "display_data",
          "data": {
            "text/plain": [
              "<Figure size 640x480 with 1 Axes>"
            ],
            "image/png": "[encoded data removed]"
          },
          "metadata": {}
        }
      ]
    },
    {
      "cell_type": "code",
      "source": [
        "import matplotlib.pyplot as plt\n",
        "# Training and Test Accuracy (example data)\n",
        "iterations = [0,10, 20 ,30, 40, 50,60, 70, 80, 90,]\n",
        "train_accuracies = [53.125,\n",
        "75.0,\n",
        "87.5,\n",
        "90.625,\n",
        "96.875,\n",
        "96.875,\n",
        "90.625,\n",
        "87.5,\n",
        "90.625,\n",
        "87.5\n",
        "]\n",
        "\n",
        "\n",
        "\n",
        "test_accuracy = 91.9166 # Single test accuracy\n",
        "# Plot Training Accuracy\n",
        "plt.plot(iterations, train_accuracies, label=\"Training Accuracy\", marker='o')\n",
        "plt.axhline(y=test_accuracy, color='r', linestyle='--', label=\"Test Accuracy\")\n",
        "# Plot Settings\n",
        "plt.title(\"Training vs Test Accuracy\")\n",
        "plt.xlabel(\"Iterations\")\n",
        "plt.ylabel(\"Accuracy (%)\")\n",
        "plt.legend()\n",
        "plt.grid(True)\n",
        "# Show Plot\n",
        "plt.show()"
      ],
      "metadata": {
        "id": "TZ-lT-TUtirf",
        "colab": {
          "base_uri": "https://localhost:8080/",
          "height": 472
        },
        "outputId": "b42c9258-ccd9-4fda-9233-7cb0e44518c4"
      },
      "execution_count": 22,
      "outputs": [
        {
          "output_type": "display_data",
          "data": {
            "text/plain": [
              "<Figure size 640x480 with 1 Axes>"
            ],
            "image/png": "[encoded data removed]"
          },
          "metadata": {}
        }
      ]
    },
    {
      "cell_type": "code",
      "source": [
        "import torch\n",
        "import torch.nn as nn\n",
        "import torch.optim as optim\n",
        "\n",
        "class NeuralNetworktorch(nn.Module):\n",
        "  def __init__(self, input_size, hidden_size, output_size):\n",
        "    super(NeuralNetworktorch, self).__init__()\n",
        "    self.fc1 = nn.Linear(input_size, hidden_size)\n",
        "    self.relu = nn.ReLU()\n",
        "    self.fc2 = nn.Linear(hidden_size, output_size)\n",
        "    self.softmax = nn.Softmax(dim=1)\n",
        "\n",
        "  def forward(self, x):\n",
        "    x = self.fc1(x)\n",
        "    x = self.relu(x)\n",
        "    x = self.fc2(x)\n",
        "    x = self.softmax(x) # This can be omitted if you use CrossEntropyLoss for\n",
        "    return x\n"
      ],
      "metadata": {
        "id": "xqV_hdHXtzsT"
      },
      "execution_count": 17,
      "outputs": []
    },
    {
      "cell_type": "code",
      "source": [
        "X_trainT = torch.Tensor(X_train.T)\n",
        "Y_train = torch.LongTensor(Y_train)\n",
        "X_testT = torch.Tensor(X_val.T)\n",
        "Y_test = torch.LongTensor(Y_val)"
      ],
      "metadata": {
        "id": "7BvSKuRztzp3"
      },
      "execution_count": 18,
      "outputs": []
    },
    {
      "cell_type": "code",
      "source": [
        "# Training Loop\n",
        "\n",
        "def train(model, X_train, Y_train, X_test, Y_test, epochs=100, batch_size=32, learning_rate=0.01):\n",
        "    criterion = nn.CrossEntropyLoss()  # This already applies softmax internally\n",
        "    optimizer = optim.Adam(model.parameters(), lr=learning_rate)\n",
        "\n",
        "    # Training loop\n",
        "    train_accuracies = []\n",
        "    test_accuracies = []\n",
        "\n",
        "    for epoch in range(epochs):\n",
        "        model.train()\n",
        "\n",
        "        # Shuffle the training data (optional)\n",
        "        permutation = torch.randperm(X_train.size(0))\n",
        "\n",
        "        for i in range(0, X_train.size(0), batch_size):\n",
        "            indices = permutation[i:i + batch_size]\n",
        "            batch_x, batch_y = X_train[indices], Y_train[indices]\n",
        "\n",
        "            optimizer.zero_grad()\n",
        "\n",
        "            # Forward pass\n",
        "            outputs = model(batch_x)\n",
        "            loss = criterion(outputs, batch_y)\n",
        "\n",
        "            # Backward pass\n",
        "            loss.backward()\n",
        "            optimizer.step()\n",
        "\n",
        "        # Calculate training and test accuracy\n",
        "        if epoch % 10 == 0:\n",
        "            model.eval()\n",
        "            with torch.no_grad():\n",
        "                # Training accuracy\n",
        "                train_outputs = model(X_train)\n",
        "                train_predictions = torch.argmax(train_outputs, dim=1)\n",
        "                train_accuracy = (train_predictions == Y_train).float().mean()\n",
        "\n",
        "                # Test accuracy\n",
        "                test_outputs = model(X_test)\n",
        "                test_predictions = torch.argmax(test_outputs, dim=1)\n",
        "                test_accuracy = (test_predictions == Y_test).float().mean()\n",
        "\n",
        "                train_accuracies.append(train_accuracy.item())\n",
        "                test_accuracies.append(test_accuracy.item())\n",
        "\n",
        "                print(f'Epoch {epoch}/{epochs}, Train Accuracy: {train_accuracy:.4f}, Test Accuracy: {test_accuracy:.4f}')\n",
        "\n",
        "    # Plot the accuracies\n",
        "    import matplotlib.pyplot as plt\n",
        "\n",
        "    plt.plot(range(0, epochs, 10), train_accuracies, label='Train Accuracy')\n",
        "    plt.plot(range(0, epochs, 10), test_accuracies, label='Test Accuracy')\n",
        "    plt.xlabel('Epochs')\n",
        "    plt.ylabel('Accuracy')\n",
        "    plt.title('Training and Test Accuracy')\n",
        "    plt.legend()\n",
        "    plt.show()"
      ],
      "metadata": {
        "id": "C7uJjHYRtzmm"
      },
      "execution_count": 19,
      "outputs": []
    },
    {
      "cell_type": "code",
      "source": [
        "input_size = 784  # Example input size (e.g., 28x28 images flattened)\n",
        "hidden_size = 64\n",
        "output_size = 10  # Example output size (e.g., 10 classes for digit classification)\n",
        "learning_rate = 0.001\n",
        "epochs = 100\n",
        "batch_size = 32\n",
        "model = NeuralNetworktorch(input_size, hidden_size, output_size)\n",
        "\n",
        "# Train the model\n",
        "train(model, X_trainT, Y_train, X_testT, Y_test, epochs, batch_size, learning_rate)"
      ],
      "metadata": {
        "id": "vFvaZwYdHR0d",
        "colab": {
          "base_uri": "https://localhost:8080/",
          "height": 645
        },
        "outputId": "fae8d934-1faf-4b61-c090-9cd44bf0df99"
      },
      "execution_count": 20,
      "outputs": [
        {
          "output_type": "stream",
          "name": "stdout",
          "text": [
            "Epoch 0/100, Train Accuracy: 0.9186, Test Accuracy: 0.9137\n",
            "Epoch 10/100, Train Accuracy: 0.9782, Test Accuracy: 0.9600\n",
            "Epoch 20/100, Train Accuracy: 0.9892, Test Accuracy: 0.9675\n",
            "Epoch 30/100, Train Accuracy: 0.9909, Test Accuracy: 0.9670\n",
            "Epoch 40/100, Train Accuracy: 0.9907, Test Accuracy: 0.9638\n",
            "Epoch 50/100, Train Accuracy: 0.9926, Test Accuracy: 0.9701\n",
            "Epoch 60/100, Train Accuracy: 0.9927, Test Accuracy: 0.9700\n",
            "Epoch 70/100, Train Accuracy: 0.9931, Test Accuracy: 0.9699\n",
            "Epoch 80/100, Train Accuracy: 0.9937, Test Accuracy: 0.9710\n",
            "Epoch 90/100, Train Accuracy: 0.9933, Test Accuracy: 0.9705\n"
          ]
        },
        {
          "output_type": "display_data",
          "data": {
            "text/plain": [
              "<Figure size 640x480 with 1 Axes>"
            ],
            "image/png": "[encoded data removed]"
          },
          "metadata": {}
        }
      ]
    },
    {
      "cell_type": "code",
      "source": [
        "import matplotlib.pyplot as plt\n",
        "\n",
        "iterations = range(0, 100, 10)  # Assuming you're logging accuracy every 10 iterations\n",
        "custom_nn_accuracy_train = [\n",
        "53.125,\n",
        "75.0,\n",
        "87.5,\n",
        "90.625,\n",
        "96.875,\n",
        "96.875,\n",
        "90.625,\n",
        "87.5,\n",
        "90.625,\n",
        "87.5\n",
        "]\n",
        "\n",
        "\n",
        "custom_nn_accuracy_test = [0,0,0,0,0,0,0,0,0, 91.88]\n",
        "\n",
        "# PyTorch training and test accuracy (replace with actual values if different)\n",
        "epochs = range(0, 100, 10)\n",
        "\n",
        "train_accuracy_pytorch = [91.86,\n",
        "97.82,\n",
        "98.92,\n",
        "99.09,\n",
        "99.07,\n",
        "99.26,\n",
        "99.27,\n",
        "99.31,\n",
        "99.37,\n",
        "99.33]\n",
        "test_accuracy_pytorch = [91.37,\n",
        "96.00,\n",
        "96.75,\n",
        "96.70,\n",
        "96.38,\n",
        "97.01,\n",
        "97.00,\n",
        "96.99,\n",
        "97.10,\n",
        "97.05]\n",
        "\n",
        "#. Create the plot\n",
        "plt.plot(iterations, custom_nn_accuracy_train, label='Custom NN train Accuracy', marker='o')\n",
        "plt.plot(iterations, custom_nn_accuracy_test, label='Custom NN test Accuracy', marker='*')\n",
        "plt.plot(epochs, train_accuracy_pytorch, label='PyTorch Train Accuracy', marker='+')\n",
        "plt.plot(epochs, test_accuracy_pytorch, label='PyTorch Test Accuracy', marker='x')\n",
        "\n",
        "# Labels and title\n",
        "plt.xlabel('Iterations / Epochs')\n",
        "plt.ylabel('Accuracy')\n",
        "plt.title('Comparison of Custom NN and PyTorch Accuracy')\n",
        "\n",
        "# Show the legend\n",
        "plt.legend()\n",
        "\n",
        "# Display the plot\n",
        "plt.show()"
      ],
      "metadata": {
        "id": "JguuFEa2HRxm",
        "colab": {
          "base_uri": "https://localhost:8080/",
          "height": 472
        },
        "outputId": "dceb3dfa-6020-4ad9-b4a6-909236cf6aa4"
      },
      "execution_count": 23,
      "outputs": [
        {
          "output_type": "display_data",
          "data": {
            "text/plain": [
              "<Figure size 640x480 with 1 Axes>"
            ],
            "image/png": "[encoded data removed]"
          },
          "metadata": {}
        }
      ]
    },
    {
      "cell_type": "markdown",
      "source": [
        "### Summary of Training and Evaluation Results\n",
        "\n",
        "#### 1. **Objective**:\n",
        "The goal was to train two versions of a neural network—one implemented from scratch using NumPy and the other leveraging PyTorch—to classify data and achieve high accuracy on both training and testing datasets.\n",
        "\n",
        "---\n",
        "\n",
        "#### 2. **Results**:\n",
        "\n",
        "##### **Custom Neural Network (NumPy-based):**\n",
        "- **Final Training Accuracy**: Reached ~96% in several iterations.\n",
        "- **Testing Accuracy**: 91.88% was achieved, showcasing good generalization but a slight gap compared to training accuracy.\n",
        "\n",
        "##### **PyTorch Neural Network**:\n",
        "- **Training Accuracy**: Consistently high, reaching ~99% toward the end.\n",
        "- **Testing Accuracy**: Achieved a peak of **97.05%**, demonstrating excellent generalization to unseen data.\n",
        "\n",
        "---\n",
        "\n",
        "#### 3. **Mathematical Insights**:\n",
        "\n",
        "##### **Training Process:**\n",
        "1. **Forward Pass**:\n",
        "   - Custom NN: Used ReLU activation for hidden layers and softmax for output probabilities.\n",
        "   - PyTorch NN: Simplified with `nn.ReLU` and `nn.CrossEntropyLoss` (includes softmax internally).\n",
        "\n",
        "2. **Loss Function**:\n",
        "   - Both models minimized cross-entropy loss to optimize classification performance.\n",
        "\n",
        "3. **Backpropagation**:\n",
        "   - Custom NN manually computed gradients for each weight and bias update.\n",
        "   - PyTorch leveraged autograd for efficient gradient computation.\n",
        "\n",
        "4. **Optimization**:\n",
        "   - Both models used gradient descent:\n",
        "     - Custom NN: Basic learning rate update.\n",
        "     - PyTorch: Adam optimizer for adaptive learning rate adjustments.\n",
        "\n",
        "##### **Accuracy Tracking**:\n",
        "- Predictions were derived using `argmax` on output probabilities.\n",
        "- Training accuracy remained high throughout, with some overfitting observed in the custom NN.\n",
        "\n",
        "---\n",
        "\n",
        "#### 4. **Observations**:\n",
        "1. **Training Performance**:\n",
        "   - Both models demonstrated smooth convergence of loss, indicating effective training.\n",
        "   - Custom NN achieved near-perfect accuracy due to overfitting, but PyTorch NN maintained a balance between training and testing performance.\n",
        "\n",
        "2. **Testing Generalization**:\n",
        "   - PyTorch NN slightly outperformed the custom NN (97.05% vs. 91.88%), highlighting its better regularization and optimization techniques.\n",
        "\n",
        "3. **Efficiency**:\n",
        "   - PyTorch significantly simplified implementation with fewer lines of code and handled batching, shuffling, and gradients seamlessly.\n",
        "\n",
        "---"
      ],
      "metadata": {
        "id": "w7tACcxrHaKN"
      }
    },
    {
      "cell_type": "code",
      "source": [],
      "metadata": {
        "id": "lpnyj8DlHRum"
      },
      "execution_count": 21,
      "outputs": []
    },
    {
      "cell_type": "code",
      "source": [],
      "metadata": {
        "id": "i8CHHA3uHRr3"
      },
      "execution_count": 21,
      "outputs": []
    },
    {
      "cell_type": "code",
      "source": [],
      "metadata": {
        "id": "h75ybh0PHRoy"
      },
      "execution_count": 21,
      "outputs": []
    }
  ]
}